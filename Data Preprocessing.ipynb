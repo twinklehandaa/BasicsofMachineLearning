{
 "cells": [
  {
   "cell_type": "code",
   "execution_count": 1,
   "id": "46efe5d8-7218-4826-8394-eb9e6889183a",
   "metadata": {},
   "outputs": [],
   "source": [
    "import pandas as pd\n",
    "import numpy as np"
   ]
  },
  {
   "cell_type": "code",
   "execution_count": 2,
   "id": "3f394e80-dbe1-4df4-948d-765c4dd3fbf9",
   "metadata": {},
   "outputs": [
    {
     "name": "stdout",
     "output_type": "stream",
     "text": [
      "   Country   Age   Salary\n",
      "0   France  44.0  72000.0\n",
      "1    Spain  27.0  48000.0\n",
      "2  Germany  30.0  54000.0\n",
      "3    Spain  38.0  61000.0\n",
      "4  Germany  40.0      NaN\n",
      "5   France  35.0  58000.0\n",
      "6    Spain   NaN  52000.0\n",
      "7   France  48.0  79000.0\n",
      "8  Germany  50.0  83000.0\n",
      "9   France  37.0  67000.0\n",
      "\n",
      " 0     No\n",
      "1    Yes\n",
      "2     No\n",
      "3     No\n",
      "4    Yes\n",
      "5    Yes\n",
      "6     No\n",
      "7    Yes\n",
      "8     No\n",
      "9    Yes\n",
      "Name: Purchased, dtype: object\n"
     ]
    }
   ],
   "source": [
    "# Importing dataset\n",
    "\n",
    "dataset =  pd.read_csv(\"C:/Users/hp/Downloads/Data - Data.csv\")\n",
    "x = dataset.iloc[:,:-1]   # independent values\n",
    "y = dataset.iloc[:,-1]    # dependent values\n",
    "print(x)\n",
    "print(\"\\n\",y)"
   ]
  },
  {
   "cell_type": "code",
   "execution_count": 3,
   "id": "64eb6371-efd7-4e6b-8b29-5c8954cfe2d2",
   "metadata": {},
   "outputs": [
    {
     "name": "stdout",
     "output_type": "stream",
     "text": [
      "   Country    Age    Salary\n",
      "0   France  44.00  72000.00\n",
      "1    Spain  27.00  48000.00\n",
      "2  Germany  30.00  54000.00\n",
      "3    Spain  38.00  61000.00\n",
      "4  Germany  40.00  63777.78\n",
      "5   France  35.00  58000.00\n",
      "6    Spain  38.78  52000.00\n",
      "7   France  48.00  79000.00\n",
      "8  Germany  50.00  83000.00\n",
      "9   France  37.00  67000.00\n"
     ]
    }
   ],
   "source": [
    "# Replacing missing values\n",
    "from sklearn.impute import SimpleImputer\n",
    "\n",
    "imputer = SimpleImputer(missing_values=np.nan, strategy='mean')\n",
    "imputer.fit(x.iloc[:,1:])\n",
    "x.iloc[:,1:] = imputer.transform(x.iloc[:,1:]).round(2)\n",
    "\n",
    "print(x)"
   ]
  },
  {
   "cell_type": "code",
   "execution_count": 4,
   "id": "3444af95-6d20-45d4-b405-89a6423d9843",
   "metadata": {},
   "outputs": [
    {
     "name": "stdout",
     "output_type": "stream",
     "text": [
      "[[1.000000e+00 0.000000e+00 0.000000e+00 4.400000e+01 7.200000e+04]\n",
      " [0.000000e+00 0.000000e+00 1.000000e+00 2.700000e+01 4.800000e+04]\n",
      " [0.000000e+00 1.000000e+00 0.000000e+00 3.000000e+01 5.400000e+04]\n",
      " [0.000000e+00 0.000000e+00 1.000000e+00 3.800000e+01 6.100000e+04]\n",
      " [0.000000e+00 1.000000e+00 0.000000e+00 4.000000e+01 6.377778e+04]\n",
      " [1.000000e+00 0.000000e+00 0.000000e+00 3.500000e+01 5.800000e+04]\n",
      " [0.000000e+00 0.000000e+00 1.000000e+00 3.878000e+01 5.200000e+04]\n",
      " [1.000000e+00 0.000000e+00 0.000000e+00 4.800000e+01 7.900000e+04]\n",
      " [0.000000e+00 1.000000e+00 0.000000e+00 5.000000e+01 8.300000e+04]\n",
      " [1.000000e+00 0.000000e+00 0.000000e+00 3.700000e+01 6.700000e+04]]\n"
     ]
    }
   ],
   "source": [
    "# Encoding independent variable\n",
    "\n",
    "from sklearn.compose import ColumnTransformer\n",
    "from sklearn.preprocessing import OneHotEncoder\n",
    "ct = ColumnTransformer(transformers = [('encoder', OneHotEncoder(), [0])], remainder = 'passthrough')\n",
    "x = np.array(ct.fit_transform(x))\n",
    "print(x)"
   ]
  },
  {
   "cell_type": "code",
   "execution_count": 5,
   "id": "4036a3c3-3d1b-4771-9dec-0ff41e7a28f3",
   "metadata": {},
   "outputs": [
    {
     "name": "stdout",
     "output_type": "stream",
     "text": [
      "[0 1 0 0 1 1 0 1 0 1]\n"
     ]
    }
   ],
   "source": [
    "# Encoding dependent variable\n",
    "\n",
    "from sklearn.preprocessing import LabelEncoder\n",
    "le = LabelEncoder()\n",
    "y = le.fit_transform(y)\n",
    "print(y)"
   ]
  },
  {
   "cell_type": "code",
   "execution_count": 6,
   "id": "d7844ba3-aa43-46e5-a9c4-6dd8a3b8b2f0",
   "metadata": {},
   "outputs": [
    {
     "name": "stdout",
     "output_type": "stream",
     "text": [
      "X Train Data:\n",
      " [[0.000000e+00 0.000000e+00 1.000000e+00 3.878000e+01 5.200000e+04]\n",
      " [0.000000e+00 1.000000e+00 0.000000e+00 4.000000e+01 6.377778e+04]\n",
      " [1.000000e+00 0.000000e+00 0.000000e+00 4.400000e+01 7.200000e+04]\n",
      " [0.000000e+00 0.000000e+00 1.000000e+00 3.800000e+01 6.100000e+04]\n",
      " [0.000000e+00 0.000000e+00 1.000000e+00 2.700000e+01 4.800000e+04]\n",
      " [1.000000e+00 0.000000e+00 0.000000e+00 4.800000e+01 7.900000e+04]\n",
      " [0.000000e+00 1.000000e+00 0.000000e+00 5.000000e+01 8.300000e+04]\n",
      " [1.000000e+00 0.000000e+00 0.000000e+00 3.500000e+01 5.800000e+04]]\n",
      "\n",
      "\n",
      "X Test Data:\n",
      " [[0.0e+00 1.0e+00 0.0e+00 3.0e+01 5.4e+04]\n",
      " [1.0e+00 0.0e+00 0.0e+00 3.7e+01 6.7e+04]]\n",
      "\n",
      "\n",
      "Y Train Data:\n",
      " [0 1 0 0 1 1 0 1]\n",
      "\n",
      "\n",
      "Y Test Data:\n",
      " [0 1]\n"
     ]
    }
   ],
   "source": [
    "# Splitting dataset into training and testing data\n",
    "\n",
    "from sklearn.model_selection import train_test_split\n",
    "x_train, x_test, y_train, y_test = train_test_split(x,y,test_size = 0.2, random_state = 1)\n",
    "print(\"X Train Data:\\n\",x_train)\n",
    "print(\"\\n\\nX Test Data:\\n\",x_test)\n",
    "print(\"\\n\\nY Train Data:\\n\",y_train)\n",
    "print(\"\\n\\nY Test Data:\\n\",y_test)"
   ]
  },
  {
   "cell_type": "code",
   "execution_count": 7,
   "id": "55f7bae0-1c9a-48ed-a800-7474f04cd086",
   "metadata": {},
   "outputs": [
    {
     "name": "stdout",
     "output_type": "stream",
     "text": [
      "X Train Data:\n",
      " [[ 0.          0.          1.         -0.19131098 -1.07812597]\n",
      " [ 0.          1.          0.         -0.01415774 -0.07013151]\n",
      " [ 1.          0.          0.          0.56667255  0.63356241]\n",
      " [ 0.          0.          1.         -0.30457288 -0.3078662 ]\n",
      " [ 0.          0.          1.         -1.90185617 -1.42046364]\n",
      " [ 1.          0.          0.          1.14750283  1.23265334]\n",
      " [ 0.          1.          0.          1.43791798  1.57499102]\n",
      " [ 1.          0.          0.         -0.7401956  -0.56461945]]\n",
      "\n",
      "\n",
      "X Test Data:\n",
      " [[ 0.          1.          0.         -1.46623345 -0.90695713]\n",
      " [ 1.          0.          0.         -0.44978045  0.20564032]]\n"
     ]
    }
   ],
   "source": [
    "# Feature Scaling\n",
    "from sklearn.preprocessing import StandardScaler\n",
    "\n",
    "sc = StandardScaler()\n",
    "x_train[:, 3:] = sc.fit_transform(x_train[:, 3:])\n",
    "x_test[:, 3:] = sc.transform(x_test[:, 3:])\n",
    "\n",
    "print(\"X Train Data:\\n\",x_train)\n",
    "print(\"\\n\\nX Test Data:\\n\",x_test)"
   ]
  }
 ],
 "metadata": {
  "kernelspec": {
   "display_name": "Python 3 (ipykernel)",
   "language": "python",
   "name": "python3"
  },
  "language_info": {
   "codemirror_mode": {
    "name": "ipython",
    "version": 3
   },
   "file_extension": ".py",
   "mimetype": "text/x-python",
   "name": "python",
   "nbconvert_exporter": "python",
   "pygments_lexer": "ipython3",
   "version": "3.11.5"
  }
 },
 "nbformat": 4,
 "nbformat_minor": 5
}
